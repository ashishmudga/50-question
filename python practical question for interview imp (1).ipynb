{
 "cells": [
  {
   "cell_type": "markdown",
   "id": "26a24166-9062-44ad-a440-f867e0003af9",
   "metadata": {},
   "source": [
    "#Python Questions Practical\n",
    "#Note: In every program you have to use class, function and proper Exception handling. \n",
    "\n",
    "\n"
   ]
  },
  {
   "cell_type": "markdown",
   "id": "0c8e8477-1d9a-462d-bf03-b234892cf40d",
   "metadata": {},
   "source": [
    "#interview question"
   ]
  },
  {
   "cell_type": "code",
   "execution_count": 205,
   "id": "445fa541-641f-46a4-af53-91325efb174d",
   "metadata": {},
   "outputs": [
    {
     "name": "stdin",
     "output_type": "stream",
     "text": [
      "enter the number 7\n"
     ]
    },
    {
     "name": "stdout",
     "output_type": "stream",
     "text": [
      "number is prime\n"
     ]
    }
   ],
   "source": [
    "# # 1. Take the input from user and find whether number is prime or not?\n",
    "# #  Prime numbers are number which are divide by 1 or themselves only.\n",
    "\n",
    "# Example: 13 is a prime number.\n",
    "# Example: 97 is a prime number\n",
    "\n",
    "num = int(input(\"enter the number\"))\n",
    "\n",
    "for i in range(2,num):\n",
    "    if num%i == 0:\n",
    "        print(\"number is not prime\")\n",
    "        break\n",
    "        \n",
    "else:\n",
    "        print(\"number is prime\")\n",
    "\n",
    "\n",
    "\n"
   ]
  },
  {
   "cell_type": "code",
   "execution_count": 295,
   "id": "aa0de843-a7e8-4baf-a722-3fae84ddf378",
   "metadata": {},
   "outputs": [
    {
     "name": "stdout",
     "output_type": "stream",
     "text": [
      "number 97 is prime\n",
      "number 97 is prime\n",
      "number 97 is prime\n",
      "number 97 is prime\n",
      "number 97 is prime\n",
      "number 97 is prime\n",
      "number 97 is prime\n",
      "number 97 is prime\n"
     ]
    }
   ],
   "source": [
    "def prime(n):\n",
    "    for i in range(2, int(n ** 0.5) + 1):\n",
    "        if n % i == 0:\n",
    "            print(f\"number {n} is not prime\")\n",
    "            \n",
    "        else:\n",
    "            print(f\"number {n} is prime\")\n",
    "\n",
    "prime(97)"
   ]
  },
  {
   "cell_type": "code",
   "execution_count": 3,
   "id": "c45b0549-fdc6-4067-9d41-79658559249f",
   "metadata": {},
   "outputs": [
    {
     "name": "stdout",
     "output_type": "stream",
     "text": [
      "reversed_string nohtyp\n"
     ]
    }
   ],
   "source": [
    "# 2. Reverse the string using for loop.\n",
    "# string = \"Python\"\n",
    "# Expected output = \"nohtyP\"\n",
    "\n",
    "string = \"python\"\n",
    "reversed_string = \"\"\n",
    "for char in string:\n",
    "    reversed_string = char + reversed_string\n",
    "\n",
    "print(\"reversed_string\",reversed_string)\n"
   ]
  },
  {
   "cell_type": "code",
   "execution_count": 80,
   "id": "6acfb469-70dd-4af7-ab4f-1d14bae3cdb4",
   "metadata": {},
   "outputs": [
    {
     "name": "stdin",
     "output_type": "stream",
     "text": [
      "Enter a string:  @#$$\n"
     ]
    },
    {
     "name": "stdout",
     "output_type": "stream",
     "text": [
      "Reversed String: $$#@\n"
     ]
    }
   ],
   "source": [
    "def reverse_string(s):\n",
    "    try:\n",
    "        if not isinstance(s, str):\n",
    "            raise TypeError(\"Input must be a string\")\n",
    "        return s[::-1]  # Slicing to reverse the string\n",
    "    except TypeError as e:\n",
    "        return f\"Error: {e}\"\n",
    "\n",
    "# Taking input from the user\n",
    "try:\n",
    "    user_input = input(\"Enter a string: \")\n",
    "    reversed_str = reverse_string(user_input)\n",
    "    print(\"Reversed String:\", reversed_str)\n",
    "except Exception as e:\n",
    "    print(f\"Unexpected Error: {e}\")\n"
   ]
  },
  {
   "cell_type": "code",
   "execution_count": 35,
   "id": "f99ebdc2-427d-4558-86a4-826d5d4947a3",
   "metadata": {},
   "outputs": [
    {
     "name": "stdin",
     "output_type": "stream",
     "text": [
      "enter the string 23345\n"
     ]
    },
    {
     "name": "stdout",
     "output_type": "stream",
     "text": [
      "reverse string 54332\n"
     ]
    }
   ],
   "source": [
    "def reverse(s):\n",
    "    return s[::-1]\n",
    "\n",
    "string = input(\"enter the string\")\n",
    "\n",
    "print(\"reverse string\",reverse_string(string))"
   ]
  },
  {
   "cell_type": "code",
   "execution_count": 40,
   "id": "3f3874dd-772c-4d9e-92c0-15a912fb5b4b",
   "metadata": {},
   "outputs": [
    {
     "name": "stdin",
     "output_type": "stream",
     "text": [
      "enter the string sas\n"
     ]
    },
    {
     "name": "stdout",
     "output_type": "stream",
     "text": [
      "string is palindrome\n"
     ]
    }
   ],
   "source": [
    "# Palindrome Check (String Problem)\n",
    "# Write a function to check whether a given string is a palindrome (a string that reads the same forward and backward is called palindrome).\n",
    "# String = “mom”  # if we reverse this string, we get the same Output “mom”\n",
    "# Expected output: string is a palindrome\n",
    "\n",
    "def is_palidrome(s):\n",
    "    return s == s[::-1]\n",
    "\n",
    "string = input(\"enter the string\")\n",
    "if is_palindrome(string):\n",
    "    print(\"string is palindrome\")\n",
    "else:\n",
    "    print(\"string is not palindrome\")\n",
    "\n",
    "\n"
   ]
  },
  {
   "cell_type": "code",
   "execution_count": 46,
   "id": "3fcf70ac-25db-4b7f-89d8-700fb1d0d3d8",
   "metadata": {},
   "outputs": [
    {
     "name": "stdin",
     "output_type": "stream",
     "text": [
      "enter the string lkj\n"
     ]
    },
    {
     "name": "stdout",
     "output_type": "stream",
     "text": [
      "string is not palindrome\n"
     ]
    }
   ],
   "source": [
    "string = input(\"enter the string\")\n",
    "if string == string[::-1]:\n",
    "    print(\"string is palindrome\")\n",
    "else:\n",
    "    print(\"string is not palindrome\")"
   ]
  },
  {
   "cell_type": "code",
   "execution_count": 82,
   "id": "158605fc-40ea-4c54-9a8d-812ef21b2253",
   "metadata": {},
   "outputs": [
    {
     "name": "stdin",
     "output_type": "stream",
     "text": [
      "enter the string :  mom\n"
     ]
    },
    {
     "name": "stdout",
     "output_type": "stream",
     "text": [
      "string is palindrome : \n"
     ]
    }
   ],
   "source": [
    "def palindrome(p):\n",
    "    return p == p[::-1]\n",
    "\n",
    "try:\n",
    "    string = input(\"enter the string : \")\n",
    "    if not string:\n",
    "        raise ValueError(\"input cannot be empty : \")\n",
    "    if palindrome(string):\n",
    "        print(\"string is palindrome : \")\n",
    "    else:\n",
    "        print(\"string is not palindrome\")\n",
    "\n",
    "except ValueError as e:\n",
    "    print(f\"invalid input as {e}\")\n",
    "\n",
    "\n"
   ]
  },
  {
   "cell_type": "code",
   "execution_count": 114,
   "id": "faf79e3e-7274-4cd9-a081-e9e728e02c7f",
   "metadata": {},
   "outputs": [
    {
     "name": "stdin",
     "output_type": "stream",
     "text": [
      "enter the number :  5\n"
     ]
    },
    {
     "name": "stdout",
     "output_type": "stream",
     "text": [
      "number is 5 factorial 120\n"
     ]
    }
   ],
   "source": [
    "# Calculate factorial of a number\n",
    "# Write a function calculate_factorial that takes a number as input and returns its factorial. Handle cases where the input is not a non-negative\n",
    "# Example: If number is 5 factorials will be (5x4x2x3x2x1=120)\n",
    "# Expected output: 120 if number is 5\n",
    "\n",
    "num = int(input(\"enter the number : \"))\n",
    "product = 1\n",
    "\n",
    "for i in range(1,num+1):\n",
    "    product = product*i\n",
    "   \n",
    "print(f\"number is {num} factorial {product}\")\n",
    "\n",
    "\n"
   ]
  },
  {
   "cell_type": "code",
   "execution_count": 112,
   "id": "e550b16d-809b-4e37-8a52-96ff77ec5b85",
   "metadata": {},
   "outputs": [
    {
     "name": "stdin",
     "output_type": "stream",
     "text": [
      "Enter a number:  5\n"
     ]
    },
    {
     "name": "stdout",
     "output_type": "stream",
     "text": [
      "Factorial of 5 is 120\n"
     ]
    }
   ],
   "source": [
    "def factorial(n):\n",
    "    if n == 0 or n == 1:\n",
    "        return 1\n",
    "    else:\n",
    "        return n * factorial(n - 1)\n",
    "\n",
    "\n",
    "num = int(input(\"Enter a number: \"))\n",
    "print(f\"Factorial of {num} is {factorial(num)}\")"
   ]
  },
  {
   "cell_type": "code",
   "execution_count": 132,
   "id": "f96237c9-9c71-4576-b2fc-7c6d91d6cb94",
   "metadata": {},
   "outputs": [
    {
     "name": "stdin",
     "output_type": "stream",
     "text": [
      "enter the total no you want inside your list :  5\n",
      "enter the element :  55\n",
      "enter the element :  33\n",
      "enter the element :  99\n",
      "enter the element :  1\n",
      "enter the element :  3\n"
     ]
    },
    {
     "name": "stdout",
     "output_type": "stream",
     "text": [
      "my list [55, 33, 99, 1, 3]\n",
      "sorted list [1, 3, 33, 55, 99]\n",
      "second largest 55\n"
     ]
    }
   ],
   "source": [
    "# Find the Second Largest Element in a List using for loop.\n",
    "# Write a function to find the second largest element in a list without using built-in sorting.\n",
    "# Example\n",
    "# Input: [7, 5, 8, 2, 10, 9]\n",
    "# Expected Output: 9\n",
    "# Example\n",
    "# Input: [4, 4, 4, 4]\n",
    "# Expected Output: None\n",
    "\n",
    "n = int(input(\"enter the total no you want inside your list : \"))\n",
    "l=[]\n",
    "for i in range(n):\n",
    "    ele = int(input(\"enter the element : \"))\n",
    "    l.append(ele)\n",
    "\n",
    "print(\"my list\",l)\n",
    "sorted_list = l.sort()\n",
    "print(\"sorted list\",l)\n",
    "\n",
    "second_largest = l[-2]\n",
    "print(\"second largest\",second_largest)\n",
    "    \n",
    "\n",
    "\n",
    "\n"
   ]
  },
  {
   "cell_type": "code",
   "execution_count": 146,
   "id": "b62307fd-3e9f-4677-9b01-80ed8880ab68",
   "metadata": {},
   "outputs": [
    {
     "name": "stdin",
     "output_type": "stream",
     "text": [
      "Enter first string:  hello\n",
      "Enter second string:  world\n"
     ]
    },
    {
     "name": "stdout",
     "output_type": "stream",
     "text": [
      "it s not anagram\n"
     ]
    }
   ],
   "source": [
    "# Check for Anagram\n",
    "# •\tWrite a function to check if two input strings are anagrams of each other.\n",
    "# •\tAn anagram is a word or phrase that is formed by rearranging the letters of another word or phrase. To be anagrams, two strings must contain the exact same characters in the same quantities, but in any order.\n",
    "# •\tExample: \"listen\" and \"silent\" are anagrams.\n",
    "\n",
    "def is_anagram(str1,str2):\n",
    "    return sorted(str1) == sorted(str2)\n",
    "string1 = input(\"Enter first string: \").capitalize()\n",
    "string2 = input(\"Enter second string: \").lower()\n",
    "\n",
    "if is_anagram(string1,string2):\n",
    "    print(\"its is anagram\")\n",
    "else:\n",
    "    print(\"it s not anagram\")\n"
   ]
  },
  {
   "cell_type": "code",
   "execution_count": null,
   "id": "984e8bac-474c-4e7c-ad9a-0c6d95783b89",
   "metadata": {},
   "outputs": [],
   "source": []
  }
 ],
 "metadata": {
  "kernelspec": {
   "display_name": "Python [conda env:base] *",
   "language": "python",
   "name": "conda-base-py"
  },
  "language_info": {
   "codemirror_mode": {
    "name": "ipython",
    "version": 3
   },
   "file_extension": ".py",
   "mimetype": "text/x-python",
   "name": "python",
   "nbconvert_exporter": "python",
   "pygments_lexer": "ipython3",
   "version": "3.12.7"
  }
 },
 "nbformat": 4,
 "nbformat_minor": 5
}
